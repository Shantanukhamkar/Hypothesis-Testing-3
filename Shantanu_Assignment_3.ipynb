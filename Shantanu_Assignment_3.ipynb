{
  "nbformat": 4,
  "nbformat_minor": 0,
  "metadata": {
    "colab": {
      "provenance": []
    },
    "kernelspec": {
      "name": "python3",
      "display_name": "Python 3"
    },
    "language_info": {
      "name": "python"
    }
  },
  "cells": [
    {
      "cell_type": "markdown",
      "source": [
        "HYPOTHESIS TESTING"
      ],
      "metadata": {
        "id": "-G-mIRIDYDLp"
      }
    },
    {
      "cell_type": "code",
      "source": [
        "import pandas as pd\n",
        "import numpy as np\n",
        "from scipy import stats\n",
        "from scipy.stats import norm\n",
        "from scipy.stats import chi2_contingency"
      ],
      "metadata": {
        "id": "EI6x1SglYc-W"
      },
      "execution_count": 1,
      "outputs": []
    },
    {
      "cell_type": "markdown",
      "source": [
        "Q1. A F&B manager wants to determine whether there is any significant difference in the diameter of the cutlet between two units. A randomly selected sample of cutlets was collected from both units and measured? Analyze the data and draw inferences at 5% significance level. Please state the assumptions and tests that you carried out to check validity of the assumptions."
      ],
      "metadata": {
        "id": "mD9ssyzqY0UW"
      }
    },
    {
      "cell_type": "code",
      "source": [
        "data=pd.read_csv('/content/Cutlets.csv')"
      ],
      "metadata": {
        "id": "9cAh1CHvY3dF"
      },
      "execution_count": 2,
      "outputs": []
    },
    {
      "cell_type": "code",
      "source": [
        "data.head()"
      ],
      "metadata": {
        "colab": {
          "base_uri": "https://localhost:8080/",
          "height": 206
        },
        "id": "WvmU5uiUZIv2",
        "outputId": "ab349af8-5bfc-4e3b-ca68-0eddcfd93345"
      },
      "execution_count": 3,
      "outputs": [
        {
          "output_type": "execute_result",
          "data": {
            "text/plain": [
              "   Unit A  Unit B\n",
              "0  6.8090  6.7703\n",
              "1  6.4376  7.5093\n",
              "2  6.9157  6.7300\n",
              "3  7.3012  6.7878\n",
              "4  7.4488  7.1522"
            ],
            "text/html": [
              "\n",
              "  <div id=\"df-a658731f-2c48-409f-8f4c-a770c27a87a7\">\n",
              "    <div class=\"colab-df-container\">\n",
              "      <div>\n",
              "<style scoped>\n",
              "    .dataframe tbody tr th:only-of-type {\n",
              "        vertical-align: middle;\n",
              "    }\n",
              "\n",
              "    .dataframe tbody tr th {\n",
              "        vertical-align: top;\n",
              "    }\n",
              "\n",
              "    .dataframe thead th {\n",
              "        text-align: right;\n",
              "    }\n",
              "</style>\n",
              "<table border=\"1\" class=\"dataframe\">\n",
              "  <thead>\n",
              "    <tr style=\"text-align: right;\">\n",
              "      <th></th>\n",
              "      <th>Unit A</th>\n",
              "      <th>Unit B</th>\n",
              "    </tr>\n",
              "  </thead>\n",
              "  <tbody>\n",
              "    <tr>\n",
              "      <th>0</th>\n",
              "      <td>6.8090</td>\n",
              "      <td>6.7703</td>\n",
              "    </tr>\n",
              "    <tr>\n",
              "      <th>1</th>\n",
              "      <td>6.4376</td>\n",
              "      <td>7.5093</td>\n",
              "    </tr>\n",
              "    <tr>\n",
              "      <th>2</th>\n",
              "      <td>6.9157</td>\n",
              "      <td>6.7300</td>\n",
              "    </tr>\n",
              "    <tr>\n",
              "      <th>3</th>\n",
              "      <td>7.3012</td>\n",
              "      <td>6.7878</td>\n",
              "    </tr>\n",
              "    <tr>\n",
              "      <th>4</th>\n",
              "      <td>7.4488</td>\n",
              "      <td>7.1522</td>\n",
              "    </tr>\n",
              "  </tbody>\n",
              "</table>\n",
              "</div>\n",
              "      <button class=\"colab-df-convert\" onclick=\"convertToInteractive('df-a658731f-2c48-409f-8f4c-a770c27a87a7')\"\n",
              "              title=\"Convert this dataframe to an interactive table.\"\n",
              "              style=\"display:none;\">\n",
              "        \n",
              "  <svg xmlns=\"http://www.w3.org/2000/svg\" height=\"24px\"viewBox=\"0 0 24 24\"\n",
              "       width=\"24px\">\n",
              "    <path d=\"M0 0h24v24H0V0z\" fill=\"none\"/>\n",
              "    <path d=\"M18.56 5.44l.94 2.06.94-2.06 2.06-.94-2.06-.94-.94-2.06-.94 2.06-2.06.94zm-11 1L8.5 8.5l.94-2.06 2.06-.94-2.06-.94L8.5 2.5l-.94 2.06-2.06.94zm10 10l.94 2.06.94-2.06 2.06-.94-2.06-.94-.94-2.06-.94 2.06-2.06.94z\"/><path d=\"M17.41 7.96l-1.37-1.37c-.4-.4-.92-.59-1.43-.59-.52 0-1.04.2-1.43.59L10.3 9.45l-7.72 7.72c-.78.78-.78 2.05 0 2.83L4 21.41c.39.39.9.59 1.41.59.51 0 1.02-.2 1.41-.59l7.78-7.78 2.81-2.81c.8-.78.8-2.07 0-2.86zM5.41 20L4 18.59l7.72-7.72 1.47 1.35L5.41 20z\"/>\n",
              "  </svg>\n",
              "      </button>\n",
              "      \n",
              "  <style>\n",
              "    .colab-df-container {\n",
              "      display:flex;\n",
              "      flex-wrap:wrap;\n",
              "      gap: 12px;\n",
              "    }\n",
              "\n",
              "    .colab-df-convert {\n",
              "      background-color: #E8F0FE;\n",
              "      border: none;\n",
              "      border-radius: 50%;\n",
              "      cursor: pointer;\n",
              "      display: none;\n",
              "      fill: #1967D2;\n",
              "      height: 32px;\n",
              "      padding: 0 0 0 0;\n",
              "      width: 32px;\n",
              "    }\n",
              "\n",
              "    .colab-df-convert:hover {\n",
              "      background-color: #E2EBFA;\n",
              "      box-shadow: 0px 1px 2px rgba(60, 64, 67, 0.3), 0px 1px 3px 1px rgba(60, 64, 67, 0.15);\n",
              "      fill: #174EA6;\n",
              "    }\n",
              "\n",
              "    [theme=dark] .colab-df-convert {\n",
              "      background-color: #3B4455;\n",
              "      fill: #D2E3FC;\n",
              "    }\n",
              "\n",
              "    [theme=dark] .colab-df-convert:hover {\n",
              "      background-color: #434B5C;\n",
              "      box-shadow: 0px 1px 3px 1px rgba(0, 0, 0, 0.15);\n",
              "      filter: drop-shadow(0px 1px 2px rgba(0, 0, 0, 0.3));\n",
              "      fill: #FFFFFF;\n",
              "    }\n",
              "  </style>\n",
              "\n",
              "      <script>\n",
              "        const buttonEl =\n",
              "          document.querySelector('#df-a658731f-2c48-409f-8f4c-a770c27a87a7 button.colab-df-convert');\n",
              "        buttonEl.style.display =\n",
              "          google.colab.kernel.accessAllowed ? 'block' : 'none';\n",
              "\n",
              "        async function convertToInteractive(key) {\n",
              "          const element = document.querySelector('#df-a658731f-2c48-409f-8f4c-a770c27a87a7');\n",
              "          const dataTable =\n",
              "            await google.colab.kernel.invokeFunction('convertToInteractive',\n",
              "                                                     [key], {});\n",
              "          if (!dataTable) return;\n",
              "\n",
              "          const docLinkHtml = 'Like what you see? Visit the ' +\n",
              "            '<a target=\"_blank\" href=https://colab.research.google.com/notebooks/data_table.ipynb>data table notebook</a>'\n",
              "            + ' to learn more about interactive tables.';\n",
              "          element.innerHTML = '';\n",
              "          dataTable['output_type'] = 'display_data';\n",
              "          await google.colab.output.renderOutput(dataTable, element);\n",
              "          const docLink = document.createElement('div');\n",
              "          docLink.innerHTML = docLinkHtml;\n",
              "          element.appendChild(docLink);\n",
              "        }\n",
              "      </script>\n",
              "    </div>\n",
              "  </div>\n",
              "  "
            ]
          },
          "metadata": {},
          "execution_count": 3
        }
      ]
    },
    {
      "cell_type": "code",
      "source": [
        "# Assume Null hyposthesis as Ho: μ1 = μ2 (There is no difference in diameters of cutlets between two units)\n",
        "# Thus Alternate hypothesis as Ha: μ1 ≠ μ2 (There is significant difference in diameters of cutlets between two units)\n",
        "#2 Sample 2 Tail test applicable"
      ],
      "metadata": {
        "id": "O5l3lLadZK_t"
      },
      "execution_count": 4,
      "outputs": []
    },
    {
      "cell_type": "code",
      "source": [
        "unitA=pd.Series(data.iloc[:,0])\n",
        "unitA"
      ],
      "metadata": {
        "colab": {
          "base_uri": "https://localhost:8080/"
        },
        "id": "eKM8h_GWZU60",
        "outputId": "52b592a8-79be-41c2-8740-664021d5169e"
      },
      "execution_count": 7,
      "outputs": [
        {
          "output_type": "execute_result",
          "data": {
            "text/plain": [
              "0     6.8090\n",
              "1     6.4376\n",
              "2     6.9157\n",
              "3     7.3012\n",
              "4     7.4488\n",
              "5     7.3871\n",
              "6     6.8755\n",
              "7     7.0621\n",
              "8     6.6840\n",
              "9     6.8236\n",
              "10    7.3930\n",
              "11    7.5169\n",
              "12    6.9246\n",
              "13    6.9256\n",
              "14    6.5797\n",
              "15    6.8394\n",
              "16    6.5970\n",
              "17    7.2705\n",
              "18    7.2828\n",
              "19    7.3495\n",
              "20    6.9438\n",
              "21    7.1560\n",
              "22    6.5341\n",
              "23    7.2854\n",
              "24    6.9952\n",
              "25    6.8568\n",
              "26    7.2163\n",
              "27    6.6801\n",
              "28    6.9431\n",
              "29    7.0852\n",
              "30    6.7794\n",
              "31    7.2783\n",
              "32    7.1561\n",
              "33    7.3943\n",
              "34    6.9405\n",
              "Name: Unit A, dtype: float64"
            ]
          },
          "metadata": {},
          "execution_count": 7
        }
      ]
    },
    {
      "cell_type": "code",
      "source": [
        "unitB=pd.Series(data.iloc[:,1])\n",
        "unitB"
      ],
      "metadata": {
        "colab": {
          "base_uri": "https://localhost:8080/"
        },
        "id": "SRsUKBYqZdjD",
        "outputId": "f3f7a413-250c-4379-c969-523bea976160"
      },
      "execution_count": 8,
      "outputs": [
        {
          "output_type": "execute_result",
          "data": {
            "text/plain": [
              "0     6.7703\n",
              "1     7.5093\n",
              "2     6.7300\n",
              "3     6.7878\n",
              "4     7.1522\n",
              "5     6.8110\n",
              "6     7.2212\n",
              "7     6.6606\n",
              "8     7.2402\n",
              "9     7.0503\n",
              "10    6.8810\n",
              "11    7.4059\n",
              "12    6.7652\n",
              "13    6.0380\n",
              "14    7.1581\n",
              "15    7.0240\n",
              "16    6.6672\n",
              "17    7.4314\n",
              "18    7.3070\n",
              "19    6.7478\n",
              "20    6.8889\n",
              "21    7.4220\n",
              "22    6.5217\n",
              "23    7.1688\n",
              "24    6.7594\n",
              "25    6.9399\n",
              "26    7.0133\n",
              "27    6.9182\n",
              "28    6.3346\n",
              "29    7.5459\n",
              "30    7.0992\n",
              "31    7.1180\n",
              "32    6.6965\n",
              "33    6.5780\n",
              "34    7.3875\n",
              "Name: Unit B, dtype: float64"
            ]
          },
          "metadata": {},
          "execution_count": 8
        }
      ]
    },
    {
      "cell_type": "code",
      "source": [
        "# 2-sample 2-tail ttest:   stats.ttest_ind(array1,array2)     # ind -> independent samples\n",
        "p_value=stats.ttest_ind(unitA,unitB)\n",
        "p_value"
      ],
      "metadata": {
        "colab": {
          "base_uri": "https://localhost:8080/"
        },
        "id": "Rbh3-TW4ZudY",
        "outputId": "60668164-4a28-4ad5-aaa4-433fee18ed91"
      },
      "execution_count": 9,
      "outputs": [
        {
          "output_type": "execute_result",
          "data": {
            "text/plain": [
              "Ttest_indResult(statistic=0.7228688704678063, pvalue=0.4722394724599501)"
            ]
          },
          "metadata": {},
          "execution_count": 9
        }
      ]
    },
    {
      "cell_type": "code",
      "source": [
        "#2-tail probability\n",
        "p_value[1]"
      ],
      "metadata": {
        "colab": {
          "base_uri": "https://localhost:8080/"
        },
        "id": "MFj2Nff7ZxjX",
        "outputId": "738e0c83-dce0-47a3-da31-eac1430b6187"
      },
      "execution_count": 10,
      "outputs": [
        {
          "output_type": "execute_result",
          "data": {
            "text/plain": [
              "0.4722394724599501"
            ]
          },
          "metadata": {},
          "execution_count": 10
        }
      ]
    },
    {
      "cell_type": "code",
      "source": [
        "# compare p_value with α = 0.05 (At 5% significance level)"
      ],
      "metadata": {
        "id": "bMicMWfgZ8BS"
      },
      "execution_count": 11,
      "outputs": []
    },
    {
      "cell_type": "code",
      "source": [
        "# Inference:\n",
        "# As (p_value=0.4722) > (α = 0.05); Accept Null Hypothesis\n",
        "# i.e. μ1 = μ2 \n",
        "# Thus, there is no difference in diameters of cutlets between two units"
      ],
      "metadata": {
        "id": "Ce792b5CZ-7R"
      },
      "execution_count": 12,
      "outputs": []
    },
    {
      "cell_type": "markdown",
      "source": [
        "Q2. A hospital wants to determine whether there is any difference in the average Turn Around Time (TAT) of reports of the laboratories on their preferred list. They collected a random sample and recorded TAT for reports of 4 laboratories. TAT is defined as sample collected to report dispatch. Analyze the data and determine whether there is any difference in average TAT among the different laboratories at 5% significance level."
      ],
      "metadata": {
        "id": "QvgN3VQMaFJg"
      }
    },
    {
      "cell_type": "code",
      "source": [
        "data=pd.read_csv('/content/LabTAT.csv')"
      ],
      "metadata": {
        "id": "AYHIkPdKaF-G"
      },
      "execution_count": 17,
      "outputs": []
    },
    {
      "cell_type": "code",
      "source": [
        "data.head()"
      ],
      "metadata": {
        "colab": {
          "base_uri": "https://localhost:8080/",
          "height": 206
        },
        "id": "I4utuEmraQ_n",
        "outputId": "f385dd53-084d-4568-e8cf-de58a5f4e0b0"
      },
      "execution_count": 18,
      "outputs": [
        {
          "output_type": "execute_result",
          "data": {
            "text/plain": [
              "   Laboratory 1  Laboratory 2  Laboratory 3  Laboratory 4\n",
              "0        185.35        165.53        176.70        166.13\n",
              "1        170.49        185.91        198.45        160.79\n",
              "2        192.77        194.92        201.23        185.18\n",
              "3        177.33        183.00        199.61        176.42\n",
              "4        193.41        169.57        204.63        152.60"
            ],
            "text/html": [
              "\n",
              "  <div id=\"df-189d2cee-e263-4dda-8007-87c5c7189af8\">\n",
              "    <div class=\"colab-df-container\">\n",
              "      <div>\n",
              "<style scoped>\n",
              "    .dataframe tbody tr th:only-of-type {\n",
              "        vertical-align: middle;\n",
              "    }\n",
              "\n",
              "    .dataframe tbody tr th {\n",
              "        vertical-align: top;\n",
              "    }\n",
              "\n",
              "    .dataframe thead th {\n",
              "        text-align: right;\n",
              "    }\n",
              "</style>\n",
              "<table border=\"1\" class=\"dataframe\">\n",
              "  <thead>\n",
              "    <tr style=\"text-align: right;\">\n",
              "      <th></th>\n",
              "      <th>Laboratory 1</th>\n",
              "      <th>Laboratory 2</th>\n",
              "      <th>Laboratory 3</th>\n",
              "      <th>Laboratory 4</th>\n",
              "    </tr>\n",
              "  </thead>\n",
              "  <tbody>\n",
              "    <tr>\n",
              "      <th>0</th>\n",
              "      <td>185.35</td>\n",
              "      <td>165.53</td>\n",
              "      <td>176.70</td>\n",
              "      <td>166.13</td>\n",
              "    </tr>\n",
              "    <tr>\n",
              "      <th>1</th>\n",
              "      <td>170.49</td>\n",
              "      <td>185.91</td>\n",
              "      <td>198.45</td>\n",
              "      <td>160.79</td>\n",
              "    </tr>\n",
              "    <tr>\n",
              "      <th>2</th>\n",
              "      <td>192.77</td>\n",
              "      <td>194.92</td>\n",
              "      <td>201.23</td>\n",
              "      <td>185.18</td>\n",
              "    </tr>\n",
              "    <tr>\n",
              "      <th>3</th>\n",
              "      <td>177.33</td>\n",
              "      <td>183.00</td>\n",
              "      <td>199.61</td>\n",
              "      <td>176.42</td>\n",
              "    </tr>\n",
              "    <tr>\n",
              "      <th>4</th>\n",
              "      <td>193.41</td>\n",
              "      <td>169.57</td>\n",
              "      <td>204.63</td>\n",
              "      <td>152.60</td>\n",
              "    </tr>\n",
              "  </tbody>\n",
              "</table>\n",
              "</div>\n",
              "      <button class=\"colab-df-convert\" onclick=\"convertToInteractive('df-189d2cee-e263-4dda-8007-87c5c7189af8')\"\n",
              "              title=\"Convert this dataframe to an interactive table.\"\n",
              "              style=\"display:none;\">\n",
              "        \n",
              "  <svg xmlns=\"http://www.w3.org/2000/svg\" height=\"24px\"viewBox=\"0 0 24 24\"\n",
              "       width=\"24px\">\n",
              "    <path d=\"M0 0h24v24H0V0z\" fill=\"none\"/>\n",
              "    <path d=\"M18.56 5.44l.94 2.06.94-2.06 2.06-.94-2.06-.94-.94-2.06-.94 2.06-2.06.94zm-11 1L8.5 8.5l.94-2.06 2.06-.94-2.06-.94L8.5 2.5l-.94 2.06-2.06.94zm10 10l.94 2.06.94-2.06 2.06-.94-2.06-.94-.94-2.06-.94 2.06-2.06.94z\"/><path d=\"M17.41 7.96l-1.37-1.37c-.4-.4-.92-.59-1.43-.59-.52 0-1.04.2-1.43.59L10.3 9.45l-7.72 7.72c-.78.78-.78 2.05 0 2.83L4 21.41c.39.39.9.59 1.41.59.51 0 1.02-.2 1.41-.59l7.78-7.78 2.81-2.81c.8-.78.8-2.07 0-2.86zM5.41 20L4 18.59l7.72-7.72 1.47 1.35L5.41 20z\"/>\n",
              "  </svg>\n",
              "      </button>\n",
              "      \n",
              "  <style>\n",
              "    .colab-df-container {\n",
              "      display:flex;\n",
              "      flex-wrap:wrap;\n",
              "      gap: 12px;\n",
              "    }\n",
              "\n",
              "    .colab-df-convert {\n",
              "      background-color: #E8F0FE;\n",
              "      border: none;\n",
              "      border-radius: 50%;\n",
              "      cursor: pointer;\n",
              "      display: none;\n",
              "      fill: #1967D2;\n",
              "      height: 32px;\n",
              "      padding: 0 0 0 0;\n",
              "      width: 32px;\n",
              "    }\n",
              "\n",
              "    .colab-df-convert:hover {\n",
              "      background-color: #E2EBFA;\n",
              "      box-shadow: 0px 1px 2px rgba(60, 64, 67, 0.3), 0px 1px 3px 1px rgba(60, 64, 67, 0.15);\n",
              "      fill: #174EA6;\n",
              "    }\n",
              "\n",
              "    [theme=dark] .colab-df-convert {\n",
              "      background-color: #3B4455;\n",
              "      fill: #D2E3FC;\n",
              "    }\n",
              "\n",
              "    [theme=dark] .colab-df-convert:hover {\n",
              "      background-color: #434B5C;\n",
              "      box-shadow: 0px 1px 3px 1px rgba(0, 0, 0, 0.15);\n",
              "      filter: drop-shadow(0px 1px 2px rgba(0, 0, 0, 0.3));\n",
              "      fill: #FFFFFF;\n",
              "    }\n",
              "  </style>\n",
              "\n",
              "      <script>\n",
              "        const buttonEl =\n",
              "          document.querySelector('#df-189d2cee-e263-4dda-8007-87c5c7189af8 button.colab-df-convert');\n",
              "        buttonEl.style.display =\n",
              "          google.colab.kernel.accessAllowed ? 'block' : 'none';\n",
              "\n",
              "        async function convertToInteractive(key) {\n",
              "          const element = document.querySelector('#df-189d2cee-e263-4dda-8007-87c5c7189af8');\n",
              "          const dataTable =\n",
              "            await google.colab.kernel.invokeFunction('convertToInteractive',\n",
              "                                                     [key], {});\n",
              "          if (!dataTable) return;\n",
              "\n",
              "          const docLinkHtml = 'Like what you see? Visit the ' +\n",
              "            '<a target=\"_blank\" href=https://colab.research.google.com/notebooks/data_table.ipynb>data table notebook</a>'\n",
              "            + ' to learn more about interactive tables.';\n",
              "          element.innerHTML = '';\n",
              "          dataTable['output_type'] = 'display_data';\n",
              "          await google.colab.output.renderOutput(dataTable, element);\n",
              "          const docLink = document.createElement('div');\n",
              "          docLink.innerHTML = docLinkHtml;\n",
              "          element.appendChild(docLink);\n",
              "        }\n",
              "      </script>\n",
              "    </div>\n",
              "  </div>\n",
              "  "
            ]
          },
          "metadata": {},
          "execution_count": 18
        }
      ]
    },
    {
      "cell_type": "code",
      "source": [
        "# Anova ftest statistics: Analysis of varaince between more than 2 samples or columns\n",
        "# Assume Null Hypothesis Ho as No Varaince: All samples TAT population means are same\n",
        "# Thus Alternate Hypothesis Ha as It has Variance: Atleast one sample TAT population mean is different "
      ],
      "metadata": {
        "id": "o6b4GbnHaStI"
      },
      "execution_count": 19,
      "outputs": []
    },
    {
      "cell_type": "code",
      "source": [
        "# Anova ftest statistics: stats.f_oneway(column-1,column-2,column-3,column-4)\n",
        "p_value=stats.f_oneway(data.iloc[:,0],data.iloc[:,1],data.iloc[:,2],data.iloc[:,3])\n",
        "p_value"
      ],
      "metadata": {
        "colab": {
          "base_uri": "https://localhost:8080/"
        },
        "id": "gwjwr4C3aWDq",
        "outputId": "d6bb56e1-1823-4c53-9f2c-fe8fdfbb0cf8"
      },
      "execution_count": 20,
      "outputs": [
        {
          "output_type": "execute_result",
          "data": {
            "text/plain": [
              "F_onewayResult(statistic=118.70421654401437, pvalue=2.1156708949992414e-57)"
            ]
          },
          "metadata": {},
          "execution_count": 20
        }
      ]
    },
    {
      "cell_type": "code",
      "source": [
        "# compare it with α = 0.05\n",
        "p_value[1]  "
      ],
      "metadata": {
        "colab": {
          "base_uri": "https://localhost:8080/"
        },
        "id": "avddBtlyaYFU",
        "outputId": "8dffe06d-bbc5-4e64-f8a4-ea043ee77313"
      },
      "execution_count": 21,
      "outputs": [
        {
          "output_type": "execute_result",
          "data": {
            "text/plain": [
              "2.1156708949992414e-57"
            ]
          },
          "metadata": {},
          "execution_count": 21
        }
      ]
    },
    {
      "cell_type": "code",
      "source": [
        "# Inference:\n",
        "# As (p-value=0) < (α = 0.05); Reject Null Hypothesis\n",
        "# i.e. Atleast one sample TAT population mean is different \n",
        "# Thus there is variance or difference in average Turn Around Time (TAT) of reports of the laboratories on their preferred list."
      ],
      "metadata": {
        "id": "tyfYeMEgahQv"
      },
      "execution_count": 22,
      "outputs": []
    },
    {
      "cell_type": "markdown",
      "source": [
        "question 3"
      ],
      "metadata": {
        "id": "8zqo9n1kany5"
      }
    },
    {
      "cell_type": "markdown",
      "source": [
        "![Screenshot (2).png](data:image/png;base64,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)"
      ],
      "metadata": {
        "id": "B5bblu7Nde1v"
      }
    },
    {
      "cell_type": "code",
      "source": [
        "# Assume Null Hypothesis as Ho: \n",
        "# Independence of categorical variables (male-female buyer rations are similar across regions (does not vary and are not related)\n",
        "\n",
        "# Thus Alternate Hypothesis as Ha: \n",
        "# Dependence of categorical variables (male-female buyer rations are NOT similar across regions (does vary and somewhat/significantly related)"
      ],
      "metadata": {
        "id": "WwEZM4Xgaj4o"
      },
      "execution_count": 24,
      "outputs": []
    },
    {
      "cell_type": "code",
      "source": [
        "data=pd.read_csv('/content/BuyerRatio.csv')"
      ],
      "metadata": {
        "id": "e4p3rrj5a6eU"
      },
      "execution_count": 25,
      "outputs": []
    },
    {
      "cell_type": "code",
      "source": [
        "data.info()"
      ],
      "metadata": {
        "colab": {
          "base_uri": "https://localhost:8080/"
        },
        "id": "JbefoET6bC-t",
        "outputId": "2b619cc5-c452-404b-d101-fc34edeacd3e"
      },
      "execution_count": 27,
      "outputs": [
        {
          "output_type": "stream",
          "name": "stdout",
          "text": [
            "<class 'pandas.core.frame.DataFrame'>\n",
            "RangeIndex: 2 entries, 0 to 1\n",
            "Data columns (total 5 columns):\n",
            " #   Column           Non-Null Count  Dtype \n",
            "---  ------           --------------  ----- \n",
            " 0   Observed Values  2 non-null      object\n",
            " 1   East             2 non-null      int64 \n",
            " 2   West             2 non-null      int64 \n",
            " 3   North            2 non-null      int64 \n",
            " 4   South            2 non-null      int64 \n",
            "dtypes: int64(4), object(1)\n",
            "memory usage: 208.0+ bytes\n"
          ]
        }
      ]
    },
    {
      "cell_type": "code",
      "source": [
        "# Make dimensional array\n",
        "obs=np.array([[50,142,131,70],[435,1523,1356,750]])\n",
        "obs"
      ],
      "metadata": {
        "colab": {
          "base_uri": "https://localhost:8080/"
        },
        "id": "LR_jwGUlbFG5",
        "outputId": "a88ff836-1444-464b-d3cb-52c57370798f"
      },
      "execution_count": 28,
      "outputs": [
        {
          "output_type": "execute_result",
          "data": {
            "text/plain": [
              "array([[  50,  142,  131,   70],\n",
              "       [ 435, 1523, 1356,  750]])"
            ]
          },
          "metadata": {},
          "execution_count": 28
        }
      ]
    },
    {
      "cell_type": "code",
      "source": [
        "# Chi2 contengency independence test\n",
        "chi2_contingency(obs) # o/p is (Chi2 stats value, p_value, df, expected obsvations)"
      ],
      "metadata": {
        "colab": {
          "base_uri": "https://localhost:8080/"
        },
        "id": "ApOr6HOWbKWA",
        "outputId": "4cc03fe8-3814-4eb6-9018-3080b1831d26"
      },
      "execution_count": 29,
      "outputs": [
        {
          "output_type": "execute_result",
          "data": {
            "text/plain": [
              "(1.595945538661058,\n",
              " 0.6603094907091882,\n",
              " 3,\n",
              " array([[  42.76531299,  146.81287862,  131.11756787,   72.30424052],\n",
              "        [ 442.23468701, 1518.18712138, 1355.88243213,  747.69575948]]))"
            ]
          },
          "metadata": {},
          "execution_count": 29
        }
      ]
    },
    {
      "cell_type": "code",
      "source": [
        "# Compare p_value with α = 0.05"
      ],
      "metadata": {
        "id": "DTvtimfnbNeP"
      },
      "execution_count": 30,
      "outputs": []
    },
    {
      "cell_type": "code",
      "source": [
        "##nference:\n",
        "# As (p-value = 0.6603) > (α = 0.05); Accept the Null Hypothesis\n",
        "# i.e. Independence of categorical variables \n",
        "# Thus, male-female buyer rations are similar across regions and are not related"
      ],
      "metadata": {
        "id": "WjfJbHnNbSTf"
      },
      "execution_count": 32,
      "outputs": []
    },
    {
      "cell_type": "markdown",
      "source": [
        "Q4. TeleCall uses 4 centers around the globe to process customer order forms. They audit a certain %  of the customer order forms. Any error in order form renders it defective and has to be reworked before processing.  The manager wants to check whether the defective %  varies by centre. Please analyze the data at 5% significance level and help the manager draw appropriate inferences."
      ],
      "metadata": {
        "id": "Eq9gbopIbXCs"
      }
    },
    {
      "cell_type": "code",
      "source": [
        "data=pd.read_csv('/content/Costomer+OrderForm.csv')"
      ],
      "metadata": {
        "id": "mW4LyEgybS4q"
      },
      "execution_count": 33,
      "outputs": []
    },
    {
      "cell_type": "code",
      "source": [
        "data.head()"
      ],
      "metadata": {
        "colab": {
          "base_uri": "https://localhost:8080/",
          "height": 206
        },
        "id": "c0TVAxMwbfyv",
        "outputId": "d309013f-dda1-4665-cb17-0de115eb99d1"
      },
      "execution_count": 34,
      "outputs": [
        {
          "output_type": "execute_result",
          "data": {
            "text/plain": [
              "  Phillippines   Indonesia       Malta       India\n",
              "0   Error Free  Error Free   Defective  Error Free\n",
              "1   Error Free  Error Free  Error Free   Defective\n",
              "2   Error Free   Defective   Defective  Error Free\n",
              "3   Error Free  Error Free  Error Free  Error Free\n",
              "4   Error Free  Error Free   Defective  Error Free"
            ],
            "text/html": [
              "\n",
              "  <div id=\"df-24f79519-d550-4edc-8b04-0d2cd2f22e29\">\n",
              "    <div class=\"colab-df-container\">\n",
              "      <div>\n",
              "<style scoped>\n",
              "    .dataframe tbody tr th:only-of-type {\n",
              "        vertical-align: middle;\n",
              "    }\n",
              "\n",
              "    .dataframe tbody tr th {\n",
              "        vertical-align: top;\n",
              "    }\n",
              "\n",
              "    .dataframe thead th {\n",
              "        text-align: right;\n",
              "    }\n",
              "</style>\n",
              "<table border=\"1\" class=\"dataframe\">\n",
              "  <thead>\n",
              "    <tr style=\"text-align: right;\">\n",
              "      <th></th>\n",
              "      <th>Phillippines</th>\n",
              "      <th>Indonesia</th>\n",
              "      <th>Malta</th>\n",
              "      <th>India</th>\n",
              "    </tr>\n",
              "  </thead>\n",
              "  <tbody>\n",
              "    <tr>\n",
              "      <th>0</th>\n",
              "      <td>Error Free</td>\n",
              "      <td>Error Free</td>\n",
              "      <td>Defective</td>\n",
              "      <td>Error Free</td>\n",
              "    </tr>\n",
              "    <tr>\n",
              "      <th>1</th>\n",
              "      <td>Error Free</td>\n",
              "      <td>Error Free</td>\n",
              "      <td>Error Free</td>\n",
              "      <td>Defective</td>\n",
              "    </tr>\n",
              "    <tr>\n",
              "      <th>2</th>\n",
              "      <td>Error Free</td>\n",
              "      <td>Defective</td>\n",
              "      <td>Defective</td>\n",
              "      <td>Error Free</td>\n",
              "    </tr>\n",
              "    <tr>\n",
              "      <th>3</th>\n",
              "      <td>Error Free</td>\n",
              "      <td>Error Free</td>\n",
              "      <td>Error Free</td>\n",
              "      <td>Error Free</td>\n",
              "    </tr>\n",
              "    <tr>\n",
              "      <th>4</th>\n",
              "      <td>Error Free</td>\n",
              "      <td>Error Free</td>\n",
              "      <td>Defective</td>\n",
              "      <td>Error Free</td>\n",
              "    </tr>\n",
              "  </tbody>\n",
              "</table>\n",
              "</div>\n",
              "      <button class=\"colab-df-convert\" onclick=\"convertToInteractive('df-24f79519-d550-4edc-8b04-0d2cd2f22e29')\"\n",
              "              title=\"Convert this dataframe to an interactive table.\"\n",
              "              style=\"display:none;\">\n",
              "        \n",
              "  <svg xmlns=\"http://www.w3.org/2000/svg\" height=\"24px\"viewBox=\"0 0 24 24\"\n",
              "       width=\"24px\">\n",
              "    <path d=\"M0 0h24v24H0V0z\" fill=\"none\"/>\n",
              "    <path d=\"M18.56 5.44l.94 2.06.94-2.06 2.06-.94-2.06-.94-.94-2.06-.94 2.06-2.06.94zm-11 1L8.5 8.5l.94-2.06 2.06-.94-2.06-.94L8.5 2.5l-.94 2.06-2.06.94zm10 10l.94 2.06.94-2.06 2.06-.94-2.06-.94-.94-2.06-.94 2.06-2.06.94z\"/><path d=\"M17.41 7.96l-1.37-1.37c-.4-.4-.92-.59-1.43-.59-.52 0-1.04.2-1.43.59L10.3 9.45l-7.72 7.72c-.78.78-.78 2.05 0 2.83L4 21.41c.39.39.9.59 1.41.59.51 0 1.02-.2 1.41-.59l7.78-7.78 2.81-2.81c.8-.78.8-2.07 0-2.86zM5.41 20L4 18.59l7.72-7.72 1.47 1.35L5.41 20z\"/>\n",
              "  </svg>\n",
              "      </button>\n",
              "      \n",
              "  <style>\n",
              "    .colab-df-container {\n",
              "      display:flex;\n",
              "      flex-wrap:wrap;\n",
              "      gap: 12px;\n",
              "    }\n",
              "\n",
              "    .colab-df-convert {\n",
              "      background-color: #E8F0FE;\n",
              "      border: none;\n",
              "      border-radius: 50%;\n",
              "      cursor: pointer;\n",
              "      display: none;\n",
              "      fill: #1967D2;\n",
              "      height: 32px;\n",
              "      padding: 0 0 0 0;\n",
              "      width: 32px;\n",
              "    }\n",
              "\n",
              "    .colab-df-convert:hover {\n",
              "      background-color: #E2EBFA;\n",
              "      box-shadow: 0px 1px 2px rgba(60, 64, 67, 0.3), 0px 1px 3px 1px rgba(60, 64, 67, 0.15);\n",
              "      fill: #174EA6;\n",
              "    }\n",
              "\n",
              "    [theme=dark] .colab-df-convert {\n",
              "      background-color: #3B4455;\n",
              "      fill: #D2E3FC;\n",
              "    }\n",
              "\n",
              "    [theme=dark] .colab-df-convert:hover {\n",
              "      background-color: #434B5C;\n",
              "      box-shadow: 0px 1px 3px 1px rgba(0, 0, 0, 0.15);\n",
              "      filter: drop-shadow(0px 1px 2px rgba(0, 0, 0, 0.3));\n",
              "      fill: #FFFFFF;\n",
              "    }\n",
              "  </style>\n",
              "\n",
              "      <script>\n",
              "        const buttonEl =\n",
              "          document.querySelector('#df-24f79519-d550-4edc-8b04-0d2cd2f22e29 button.colab-df-convert');\n",
              "        buttonEl.style.display =\n",
              "          google.colab.kernel.accessAllowed ? 'block' : 'none';\n",
              "\n",
              "        async function convertToInteractive(key) {\n",
              "          const element = document.querySelector('#df-24f79519-d550-4edc-8b04-0d2cd2f22e29');\n",
              "          const dataTable =\n",
              "            await google.colab.kernel.invokeFunction('convertToInteractive',\n",
              "                                                     [key], {});\n",
              "          if (!dataTable) return;\n",
              "\n",
              "          const docLinkHtml = 'Like what you see? Visit the ' +\n",
              "            '<a target=\"_blank\" href=https://colab.research.google.com/notebooks/data_table.ipynb>data table notebook</a>'\n",
              "            + ' to learn more about interactive tables.';\n",
              "          element.innerHTML = '';\n",
              "          dataTable['output_type'] = 'display_data';\n",
              "          await google.colab.output.renderOutput(dataTable, element);\n",
              "          const docLink = document.createElement('div');\n",
              "          docLink.innerHTML = docLinkHtml;\n",
              "          element.appendChild(docLink);\n",
              "        }\n",
              "      </script>\n",
              "    </div>\n",
              "  </div>\n",
              "  "
            ]
          },
          "metadata": {},
          "execution_count": 34
        }
      ]
    },
    {
      "cell_type": "code",
      "source": [
        "data.Phillippines.value_counts()"
      ],
      "metadata": {
        "colab": {
          "base_uri": "https://localhost:8080/"
        },
        "id": "IzjwiZ8rbiaG",
        "outputId": "d788c47e-3277-4720-c656-f83e3c512f3e"
      },
      "execution_count": 35,
      "outputs": [
        {
          "output_type": "execute_result",
          "data": {
            "text/plain": [
              "Error Free    271\n",
              "Defective      29\n",
              "Name: Phillippines, dtype: int64"
            ]
          },
          "metadata": {},
          "execution_count": 35
        }
      ]
    },
    {
      "cell_type": "code",
      "source": [
        "data.Indonesia.value_counts()"
      ],
      "metadata": {
        "colab": {
          "base_uri": "https://localhost:8080/"
        },
        "id": "x5vVz6tsbmoU",
        "outputId": "1de14f87-572c-4e65-c321-223f10b979c9"
      },
      "execution_count": 36,
      "outputs": [
        {
          "output_type": "execute_result",
          "data": {
            "text/plain": [
              "Error Free    267\n",
              "Defective      33\n",
              "Name: Indonesia, dtype: int64"
            ]
          },
          "metadata": {},
          "execution_count": 36
        }
      ]
    },
    {
      "cell_type": "code",
      "source": [
        "data.Malta.value_counts()"
      ],
      "metadata": {
        "colab": {
          "base_uri": "https://localhost:8080/"
        },
        "id": "_Lz83W5fboxG",
        "outputId": "049e795f-79c1-4ec9-8845-927093144135"
      },
      "execution_count": 38,
      "outputs": [
        {
          "output_type": "execute_result",
          "data": {
            "text/plain": [
              "Error Free    269\n",
              "Defective      31\n",
              "Name: Malta, dtype: int64"
            ]
          },
          "metadata": {},
          "execution_count": 38
        }
      ]
    },
    {
      "cell_type": "code",
      "source": [
        "data.India.value_counts()"
      ],
      "metadata": {
        "colab": {
          "base_uri": "https://localhost:8080/"
        },
        "id": "Y5JJOfKhbuLF",
        "outputId": "b0914927-20ff-499f-a936-e9a867bbba6d"
      },
      "execution_count": 39,
      "outputs": [
        {
          "output_type": "execute_result",
          "data": {
            "text/plain": [
              "Error Free    280\n",
              "Defective      20\n",
              "Name: India, dtype: int64"
            ]
          },
          "metadata": {},
          "execution_count": 39
        }
      ]
    },
    {
      "cell_type": "code",
      "source": [
        "# Make a contingency table\n",
        "obs=np.array([[271,267,269,280],[29,33,31,20]])\n",
        "obs"
      ],
      "metadata": {
        "colab": {
          "base_uri": "https://localhost:8080/"
        },
        "id": "imXGDYYEb3Ra",
        "outputId": "261ba15e-21f7-4b92-d500-21797491b79c"
      },
      "execution_count": 40,
      "outputs": [
        {
          "output_type": "execute_result",
          "data": {
            "text/plain": [
              "array([[271, 267, 269, 280],\n",
              "       [ 29,  33,  31,  20]])"
            ]
          },
          "metadata": {},
          "execution_count": 40
        }
      ]
    },
    {
      "cell_type": "code",
      "source": [
        "# Assume Null Hypothesis as Ho: \n",
        "# Independence of categorical variables (customer order forms defective %  does not varies by centre)\n",
        "\n",
        "# Thus, Alternative hypothesis as Ha\n",
        "# Dependence of categorical variables (customer order forms defective %  varies by centre)"
      ],
      "metadata": {
        "id": "N9zz8iBqb_Oq"
      },
      "execution_count": 41,
      "outputs": []
    },
    {
      "cell_type": "code",
      "source": [
        "# Chi2 contengency independence test\n",
        "chi2_contingency(obs) # o/p is (Chi2 stats value, p_value, df, expected obsvations)"
      ],
      "metadata": {
        "colab": {
          "base_uri": "https://localhost:8080/"
        },
        "id": "4DVJZj9tcB4s",
        "outputId": "786c20c5-c1b4-410c-dbc3-9fcebcc60039"
      },
      "execution_count": 42,
      "outputs": [
        {
          "output_type": "execute_result",
          "data": {
            "text/plain": [
              "(3.858960685820355,\n",
              " 0.2771020991233135,\n",
              " 3,\n",
              " array([[271.75, 271.75, 271.75, 271.75],\n",
              "        [ 28.25,  28.25,  28.25,  28.25]]))"
            ]
          },
          "metadata": {},
          "execution_count": 42
        }
      ]
    },
    {
      "cell_type": "code",
      "source": [
        "# Compare p_value with α = 0.05"
      ],
      "metadata": {
        "id": "uiJqjkFQcEYJ"
      },
      "execution_count": 43,
      "outputs": []
    },
    {
      "cell_type": "code",
      "source": [
        "# Inference:\n",
        "# As (p_value = 0.2771) > (α = 0.05); Accept Null Hypthesis\n",
        "# i.e. Independence of categorical variables \n",
        "# Thus, customer order forms defective %  does not varies by centre"
      ],
      "metadata": {
        "id": "Lx1t8lXIcG5G"
      },
      "execution_count": 44,
      "outputs": []
    }
  ]
}